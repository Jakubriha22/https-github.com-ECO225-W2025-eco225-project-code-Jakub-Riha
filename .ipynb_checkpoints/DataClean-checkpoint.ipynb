{
 "cells": [
  {
   "cell_type": "code",
   "execution_count": 73,
   "id": "bf6d5bab-3d0c-437c-a0a0-0b88ea8141af",
   "metadata": {
    "scrolled": true
   },
   "outputs": [
    {
     "data": {
      "text/plain": [
       "Index(['loan_id', 'loan_name', 'original_language', 'description',\n",
       "       'description_translated', 'funded_amount', 'loan_amount', 'status',\n",
       "       'activity_name', 'sector_name', 'loan_use', 'country_code',\n",
       "       'country_name', 'town_name', 'currency_policy',\n",
       "       'currency_exchange_coverage_rate', 'currency', 'partner_id',\n",
       "       'posted_time', 'planned_expiration_time', 'disburse_time',\n",
       "       'raised_time', 'lender_term', 'num_lenders_total',\n",
       "       'num_journal_entries', 'num_bulk_entries', 'tags', 'borrower_genders',\n",
       "       'borrower_pictured', 'repayment_interval', 'distribution_model'],\n",
       "      dtype='object')"
      ]
     },
     "execution_count": 73,
     "metadata": {},
     "output_type": "execute_result"
    }
   ],
   "source": [
    "import pandas as pd  # Data manipulation\n",
    "import numpy as np   # Numerical operations\n",
    "import os            # Interacting with files\n",
    "\n",
    "df1 = pd.read_csv(\"/Users/jakubriha/Desktop/ECO225/Project/Data/loans.csv\")\n",
    "df1.columns"
   ]
  },
  {
   "cell_type": "code",
   "execution_count": 74,
   "id": "5ef877b3-0ae2-46c7-ab2e-06c6467a6d2a",
   "metadata": {},
   "outputs": [
    {
     "data": {
      "text/plain": [
       "Index(['id', 'funded_amount', 'loan_amount', 'activity', 'sector', 'use',\n",
       "       'country_code', 'country', 'region', 'currency', 'partner_id',\n",
       "       'posted_time', 'disbursed_time', 'funded_time', 'term_in_months',\n",
       "       'lender_count', 'tags', 'borrower_genders', 'repayment_interval',\n",
       "       'date'],\n",
       "      dtype='object')"
      ]
     },
     "execution_count": 74,
     "metadata": {},
     "output_type": "execute_result"
    }
   ],
   "source": [
    "df2 = pd.read_csv(\"/Users/jakubriha/Desktop/ECO225/Project/Data/kiva_loans.csv\")\n",
    "df2.columns"
   ]
  },
  {
   "cell_type": "code",
   "execution_count": 75,
   "id": "f174c0e8-b916-440f-a027-d935de916555",
   "metadata": {},
   "outputs": [
    {
     "data": {
      "text/plain": [
       "1419607"
      ]
     },
     "execution_count": 75,
     "metadata": {},
     "output_type": "execute_result"
    }
   ],
   "source": [
    "df1.shape[0]"
   ]
  },
  {
   "cell_type": "code",
   "execution_count": 76,
   "id": "dedef79d-dfe1-4d01-9864-dd22a0a0189e",
   "metadata": {},
   "outputs": [
    {
     "data": {
      "text/plain": [
       "671205"
      ]
     },
     "execution_count": 76,
     "metadata": {},
     "output_type": "execute_result"
    }
   ],
   "source": [
    "df2.shape[0]"
   ]
  },
  {
   "cell_type": "code",
   "execution_count": 77,
   "id": "838dd437-eb49-4f28-bfe2-e3e67a6f196d",
   "metadata": {},
   "outputs": [
    {
     "name": "stdout",
     "output_type": "stream",
     "text": [
      "Number of overlapping loan IDs: 671204\n"
     ]
    }
   ],
   "source": [
    "# Find common loan IDs\n",
    "common_loans = df1[df1['loan_id'].isin(df2['id'])]\n",
    "\n",
    "# Display the count of overlapping loan IDs\n",
    "print(f\"Number of overlapping loan IDs: {common_loans.shape[0]}\")"
   ]
  },
  {
   "cell_type": "code",
   "execution_count": 78,
   "id": "033da8af-8e8b-4662-8ba7-d68ba6377336",
   "metadata": {},
   "outputs": [
    {
     "name": "stdout",
     "output_type": "stream",
     "text": [
      "Number of observations in merged dataset: 671204\n"
     ]
    }
   ],
   "source": [
    "# Ensure loan ID column is named the same in both datasets\n",
    "df2 = df2.rename(columns={'id': 'loan_id'})\n",
    "\n",
    "# Perform the merge (inner join to keep only overlapping observations)\n",
    "merged_df = df1.merge(df2, on='loan_id', how='inner')\n",
    "\n",
    "# Display number of rows in the merged dataset\n",
    "print(f\"Number of observations in merged dataset: {merged_df.shape[0]}\")"
   ]
  },
  {
   "cell_type": "code",
   "execution_count": 79,
   "id": "edb3635c-88bb-4484-bd02-afbfe750bd09",
   "metadata": {
    "scrolled": true
   },
   "outputs": [
    {
     "data": {
      "text/plain": [
       "Index(['loan_id', 'loan_name', 'original_language', 'description',\n",
       "       'description_translated', 'funded_amount_x', 'loan_amount_x', 'status',\n",
       "       'activity_name', 'sector_name', 'loan_use', 'country_code_x',\n",
       "       'country_name', 'town_name', 'currency_policy',\n",
       "       'currency_exchange_coverage_rate', 'currency_x', 'partner_id_x',\n",
       "       'posted_time_x', 'planned_expiration_time', 'disburse_time',\n",
       "       'raised_time', 'lender_term', 'num_lenders_total',\n",
       "       'num_journal_entries', 'num_bulk_entries', 'tags_x',\n",
       "       'borrower_genders_x', 'borrower_pictured', 'repayment_interval_x',\n",
       "       'distribution_model', 'funded_amount_y', 'loan_amount_y', 'activity',\n",
       "       'sector', 'use', 'country_code_y', 'country', 'region', 'currency_y',\n",
       "       'partner_id_y', 'posted_time_y', 'disbursed_time', 'funded_time',\n",
       "       'term_in_months', 'lender_count', 'tags_y', 'borrower_genders_y',\n",
       "       'repayment_interval_y', 'date'],\n",
       "      dtype='object')"
      ]
     },
     "execution_count": 79,
     "metadata": {},
     "output_type": "execute_result"
    }
   ],
   "source": [
    "merged_df.columns"
   ]
  },
  {
   "cell_type": "code",
   "execution_count": 87,
   "id": "b44e20bb-54e5-45cc-b37b-6ac323f2a338",
   "metadata": {},
   "outputs": [
    {
     "data": {
      "text/html": [
       "<div>\n",
       "<style scoped>\n",
       "    .dataframe tbody tr th:only-of-type {\n",
       "        vertical-align: middle;\n",
       "    }\n",
       "\n",
       "    .dataframe tbody tr th {\n",
       "        vertical-align: top;\n",
       "    }\n",
       "\n",
       "    .dataframe thead th {\n",
       "        text-align: right;\n",
       "    }\n",
       "</style>\n",
       "<table border=\"1\" class=\"dataframe\">\n",
       "  <thead>\n",
       "    <tr style=\"text-align: right;\">\n",
       "      <th></th>\n",
       "      <th>loan_id</th>\n",
       "      <th>loan_name</th>\n",
       "      <th>original_language</th>\n",
       "      <th>description</th>\n",
       "      <th>description_translated</th>\n",
       "      <th>funded_amount_x</th>\n",
       "      <th>loan_amount_x</th>\n",
       "      <th>status</th>\n",
       "      <th>activity_name</th>\n",
       "      <th>sector_name</th>\n",
       "      <th>...</th>\n",
       "      <th>partner_id_y</th>\n",
       "      <th>posted_time_y</th>\n",
       "      <th>disbursed_time</th>\n",
       "      <th>funded_time</th>\n",
       "      <th>term_in_months</th>\n",
       "      <th>lender_count</th>\n",
       "      <th>tags_y</th>\n",
       "      <th>borrower_genders_y</th>\n",
       "      <th>repayment_interval_y</th>\n",
       "      <th>date</th>\n",
       "    </tr>\n",
       "  </thead>\n",
       "  <tbody>\n",
       "    <tr>\n",
       "      <th>0</th>\n",
       "      <td>657307</td>\n",
       "      <td>Aivy</td>\n",
       "      <td>English</td>\n",
       "      <td>Aivy, 21 years of age, is single and lives in ...</td>\n",
       "      <td>NaN</td>\n",
       "      <td>125.0</td>\n",
       "      <td>125.0</td>\n",
       "      <td>funded</td>\n",
       "      <td>General Store</td>\n",
       "      <td>Retail</td>\n",
       "      <td>...</td>\n",
       "      <td>126.0</td>\n",
       "      <td>2014-01-15 02:23:45+00:00</td>\n",
       "      <td>2013-12-22 08:00:00+00:00</td>\n",
       "      <td>2014-01-15 04:48:22+00:00</td>\n",
       "      <td>7.0</td>\n",
       "      <td>3</td>\n",
       "      <td>NaN</td>\n",
       "      <td>female</td>\n",
       "      <td>irregular</td>\n",
       "      <td>2014-01-15</td>\n",
       "    </tr>\n",
       "    <tr>\n",
       "      <th>1</th>\n",
       "      <td>657259</td>\n",
       "      <td>Idalia Marizza</td>\n",
       "      <td>Spanish</td>\n",
       "      <td>Doña Idalia, esta casada, tiene 57 años de eda...</td>\n",
       "      <td>Idalia, 57, is married and lives with her husb...</td>\n",
       "      <td>400.0</td>\n",
       "      <td>400.0</td>\n",
       "      <td>funded</td>\n",
       "      <td>Used Clothing</td>\n",
       "      <td>Clothing</td>\n",
       "      <td>...</td>\n",
       "      <td>201.0</td>\n",
       "      <td>2014-01-14 20:23:20+00:00</td>\n",
       "      <td>2013-12-20 08:00:00+00:00</td>\n",
       "      <td>2014-02-25 06:42:06+00:00</td>\n",
       "      <td>8.0</td>\n",
       "      <td>11</td>\n",
       "      <td>NaN</td>\n",
       "      <td>female</td>\n",
       "      <td>monthly</td>\n",
       "      <td>2014-01-14</td>\n",
       "    </tr>\n",
       "    <tr>\n",
       "      <th>2</th>\n",
       "      <td>658010</td>\n",
       "      <td>Aasia</td>\n",
       "      <td>English</td>\n",
       "      <td>Aasia is a 45-year-old married lady and she ha...</td>\n",
       "      <td>NaN</td>\n",
       "      <td>400.0</td>\n",
       "      <td>400.0</td>\n",
       "      <td>funded</td>\n",
       "      <td>General Store</td>\n",
       "      <td>Retail</td>\n",
       "      <td>...</td>\n",
       "      <td>245.0</td>\n",
       "      <td>2014-01-16 11:32:58+00:00</td>\n",
       "      <td>2014-01-09 08:00:00+00:00</td>\n",
       "      <td>2014-01-24 23:06:18+00:00</td>\n",
       "      <td>14.0</td>\n",
       "      <td>16</td>\n",
       "      <td>#Woman Owned Biz, #Supporting Family, user_fav...</td>\n",
       "      <td>female</td>\n",
       "      <td>monthly</td>\n",
       "      <td>2014-01-16</td>\n",
       "    </tr>\n",
       "    <tr>\n",
       "      <th>3</th>\n",
       "      <td>659347</td>\n",
       "      <td>Gulmira</td>\n",
       "      <td>Russian</td>\n",
       "      <td>Гулмире 36 лет, замужем, вместе с супругом вос...</td>\n",
       "      <td>Gulmira is 36 years old and married.  She and ...</td>\n",
       "      <td>625.0</td>\n",
       "      <td>625.0</td>\n",
       "      <td>funded</td>\n",
       "      <td>Farming</td>\n",
       "      <td>Agriculture</td>\n",
       "      <td>...</td>\n",
       "      <td>171.0</td>\n",
       "      <td>2014-01-20 09:59:48+00:00</td>\n",
       "      <td>2014-01-17 08:00:00+00:00</td>\n",
       "      <td>2014-01-22 05:29:28+00:00</td>\n",
       "      <td>14.0</td>\n",
       "      <td>21</td>\n",
       "      <td>user_favorite</td>\n",
       "      <td>female</td>\n",
       "      <td>monthly</td>\n",
       "      <td>2014-01-20</td>\n",
       "    </tr>\n",
       "    <tr>\n",
       "      <th>4</th>\n",
       "      <td>656933</td>\n",
       "      <td>Ricky\\t</td>\n",
       "      <td>English</td>\n",
       "      <td>Ricky is a farmer who currently cultivates his...</td>\n",
       "      <td>NaN</td>\n",
       "      <td>425.0</td>\n",
       "      <td>425.0</td>\n",
       "      <td>funded</td>\n",
       "      <td>Farming</td>\n",
       "      <td>Agriculture</td>\n",
       "      <td>...</td>\n",
       "      <td>123.0</td>\n",
       "      <td>2014-01-14 05:46:21+00:00</td>\n",
       "      <td>2013-12-17 08:00:00+00:00</td>\n",
       "      <td>2014-01-14 17:29:27+00:00</td>\n",
       "      <td>7.0</td>\n",
       "      <td>15</td>\n",
       "      <td>#Animals, #Eco-friendly, #Sustainable Ag</td>\n",
       "      <td>male</td>\n",
       "      <td>bullet</td>\n",
       "      <td>2014-01-14</td>\n",
       "    </tr>\n",
       "  </tbody>\n",
       "</table>\n",
       "<p>5 rows × 50 columns</p>\n",
       "</div>"
      ],
      "text/plain": [
       "   loan_id       loan_name original_language  \\\n",
       "0   657307            Aivy           English   \n",
       "1   657259  Idalia Marizza           Spanish   \n",
       "2   658010           Aasia           English   \n",
       "3   659347         Gulmira           Russian   \n",
       "4   656933         Ricky\\t           English   \n",
       "\n",
       "                                         description  \\\n",
       "0  Aivy, 21 years of age, is single and lives in ...   \n",
       "1  Doña Idalia, esta casada, tiene 57 años de eda...   \n",
       "2  Aasia is a 45-year-old married lady and she ha...   \n",
       "3  Гулмире 36 лет, замужем, вместе с супругом вос...   \n",
       "4  Ricky is a farmer who currently cultivates his...   \n",
       "\n",
       "                              description_translated  funded_amount_x  \\\n",
       "0                                                NaN            125.0   \n",
       "1  Idalia, 57, is married and lives with her husb...            400.0   \n",
       "2                                                NaN            400.0   \n",
       "3  Gulmira is 36 years old and married.  She and ...            625.0   \n",
       "4                                                NaN            425.0   \n",
       "\n",
       "   loan_amount_x  status  activity_name  sector_name  ... partner_id_y  \\\n",
       "0          125.0  funded  General Store       Retail  ...        126.0   \n",
       "1          400.0  funded  Used Clothing     Clothing  ...        201.0   \n",
       "2          400.0  funded  General Store       Retail  ...        245.0   \n",
       "3          625.0  funded        Farming  Agriculture  ...        171.0   \n",
       "4          425.0  funded        Farming  Agriculture  ...        123.0   \n",
       "\n",
       "               posted_time_y             disbursed_time  \\\n",
       "0  2014-01-15 02:23:45+00:00  2013-12-22 08:00:00+00:00   \n",
       "1  2014-01-14 20:23:20+00:00  2013-12-20 08:00:00+00:00   \n",
       "2  2014-01-16 11:32:58+00:00  2014-01-09 08:00:00+00:00   \n",
       "3  2014-01-20 09:59:48+00:00  2014-01-17 08:00:00+00:00   \n",
       "4  2014-01-14 05:46:21+00:00  2013-12-17 08:00:00+00:00   \n",
       "\n",
       "                 funded_time term_in_months  lender_count  \\\n",
       "0  2014-01-15 04:48:22+00:00            7.0             3   \n",
       "1  2014-02-25 06:42:06+00:00            8.0            11   \n",
       "2  2014-01-24 23:06:18+00:00           14.0            16   \n",
       "3  2014-01-22 05:29:28+00:00           14.0            21   \n",
       "4  2014-01-14 17:29:27+00:00            7.0            15   \n",
       "\n",
       "                                              tags_y  borrower_genders_y  \\\n",
       "0                                                NaN              female   \n",
       "1                                                NaN              female   \n",
       "2  #Woman Owned Biz, #Supporting Family, user_fav...              female   \n",
       "3                                      user_favorite              female   \n",
       "4           #Animals, #Eco-friendly, #Sustainable Ag                male   \n",
       "\n",
       "  repayment_interval_y        date  \n",
       "0            irregular  2014-01-15  \n",
       "1              monthly  2014-01-14  \n",
       "2              monthly  2014-01-16  \n",
       "3              monthly  2014-01-20  \n",
       "4               bullet  2014-01-14  \n",
       "\n",
       "[5 rows x 50 columns]"
      ]
     },
     "execution_count": 87,
     "metadata": {},
     "output_type": "execute_result"
    }
   ],
   "source": [
    "merged_df.head()"
   ]
  },
  {
   "cell_type": "code",
   "execution_count": 89,
   "id": "6d92da4c-b8ad-4d9d-8951-9fa38add85f8",
   "metadata": {},
   "outputs": [
    {
     "name": "stdout",
     "output_type": "stream",
     "text": [
      "Number of observations after filtering: 654651\n"
     ]
    }
   ],
   "source": [
    "# Drop rows where any of the required columns have missing values\n",
    "filtered_df = merged_df.dropna(subset=['funded_amount_x', 'loan_amount_x', 'country_code_x', 'borrower_genders_x'])\n",
    "\n",
    "# Display number of remaining observations after filtering\n",
    "print(f\"Number of observations after filtering: {filtered_df.shape[0]}\")\n"
   ]
  },
  {
   "cell_type": "code",
   "execution_count": 91,
   "id": "b0d3acae-0e13-4a20-9b5b-5823033190ef",
   "metadata": {},
   "outputs": [
    {
     "name": "stdout",
     "output_type": "stream",
     "text": [
      "False\n",
      "False\n",
      "False\n",
      "False\n",
      "False\n",
      "False\n",
      "False\n",
      "False\n",
      "False\n"
     ]
    }
   ],
   "source": [
    "print((filtered_df['funded_amount_x'] == filtered_df['funded_amount_y']).all())\n",
    "print((filtered_df['loan_amount_x'] == filtered_df['loan_amount_y']).all())\n",
    "print((filtered_df['country_code_x'] == filtered_df['country_code_y']).all())\n",
    "print((filtered_df['currency_x'] == filtered_df['currency_y']).all())\n",
    "print((filtered_df['partner_id_x'] == filtered_df['partner_id_y']).all())\n",
    "print((filtered_df['posted_time_x'] == filtered_df['posted_time_y']).all())\n",
    "print((filtered_df['tags_x'] == filtered_df['tags_y']).all())\n",
    "print((filtered_df['borrower_genders_x'] == filtered_df['borrower_genders_y']).all())\n",
    "print((filtered_df['repayment_interval_x'] == filtered_df['repayment_interval_y']).all())"
   ]
  },
  {
   "cell_type": "code",
   "execution_count": 93,
   "id": "f02f451a-77d5-4ea0-929a-9f08acd9080c",
   "metadata": {},
   "outputs": [
    {
     "name": "stdout",
     "output_type": "stream",
     "text": [
      "Categorical Differences:\n",
      "country_code_diff: 52\n",
      "currency_diff: 51\n",
      "partner_id_diff: 13136\n",
      "posted_time_diff: 654651\n",
      "tags_diff: 171974\n",
      "borrower_genders_diff: 667\n",
      "repayment_interval_diff: 129\n"
     ]
    }
   ],
   "source": [
    "# Make an explicit copy to avoid SettingWithCopyWarning\n",
    "filtered_df = filtered_df.copy()\n",
    "\n",
    "# Now perform the column modifications for all _x and _y variables\n",
    "filtered_df['funded_diff'] = filtered_df['funded_amount_x'] - filtered_df['funded_amount_y']\n",
    "filtered_df['loan_diff'] = filtered_df['loan_amount_x'] - filtered_df['loan_amount_y']\n",
    "filtered_df['country_code_diff'] = filtered_df['country_code_x'] != filtered_df['country_code_y']\n",
    "filtered_df['currency_diff'] = filtered_df['currency_x'] != filtered_df['currency_y']\n",
    "filtered_df['partner_id_diff'] = filtered_df['partner_id_x'] != filtered_df['partner_id_y']\n",
    "filtered_df['posted_time_diff'] = filtered_df['posted_time_x'] != filtered_df['posted_time_y']\n",
    "filtered_df['tags_diff'] = filtered_df['tags_x'] != filtered_df['tags_y']\n",
    "filtered_df['borrower_genders_diff'] = filtered_df['borrower_genders_x'] != filtered_df['borrower_genders_y']\n",
    "filtered_df['repayment_interval_diff'] = filtered_df['repayment_interval_x'] != filtered_df['repayment_interval_y']\n",
    "\n",
    "# Count the number of discrepancies in categorical columns\n",
    "categorical_differences = {\n",
    "    'country_code_diff': filtered_df['country_code_diff'].sum(),\n",
    "    'currency_diff': filtered_df['currency_diff'].sum(),\n",
    "    'partner_id_diff': filtered_df['partner_id_diff'].sum(),\n",
    "    'posted_time_diff': filtered_df['posted_time_diff'].sum(),\n",
    "    'tags_diff': filtered_df['tags_diff'].sum(),\n",
    "    'borrower_genders_diff': filtered_df['borrower_genders_diff'].sum(),\n",
    "    'repayment_interval_diff': filtered_df['repayment_interval_diff'].sum()\n",
    "}\n",
    "\n",
    "print(\"Categorical Differences:\")\n",
    "for key, value in categorical_differences.items():\n",
    "    print(f\"{key}: {value}\")\n"
   ]
  },
  {
   "cell_type": "code",
   "execution_count": 95,
   "id": "4424b389-2813-44fa-b9c1-2fa72e2b9f20",
   "metadata": {},
   "outputs": [
    {
     "name": "stdout",
     "output_type": "stream",
     "text": [
      "                   posted_time_x              posted_time_y\n",
      "0  2014-01-15 02:23:45.000 +0000  2014-01-15 02:23:45+00:00\n",
      "1  2014-01-14 20:23:20.000 +0000  2014-01-14 20:23:20+00:00\n",
      "2  2014-01-16 11:32:58.000 +0000  2014-01-16 11:32:58+00:00\n",
      "3  2014-01-20 09:59:48.000 +0000  2014-01-20 09:59:48+00:00\n",
      "4  2014-01-14 05:46:21.000 +0000  2014-01-14 05:46:21+00:00\n",
      "5  2014-01-21 01:09:34.000 +0000  2014-01-21 01:09:34+00:00\n",
      "6  2014-01-22 03:43:12.000 +0000  2014-01-22 03:43:12+00:00\n",
      "7  2014-01-24 16:29:55.000 +0000  2014-01-24 16:29:55+00:00\n",
      "8  2014-01-26 23:05:52.000 +0000  2014-01-26 23:05:52+00:00\n",
      "9  2014-01-27 07:22:38.000 +0000  2014-01-27 07:22:38+00:00\n"
     ]
    }
   ],
   "source": [
    "# Show some examples where posted_time differs\n",
    "diff_posted_time = filtered_df[filtered_df['posted_time_x'] != filtered_df['posted_time_y']][['posted_time_x', 'posted_time_y']].head(10)\n",
    "print(diff_posted_time)\n"
   ]
  },
  {
   "cell_type": "code",
   "execution_count": 97,
   "id": "70faa8ed-3ccb-4b3b-9d7c-034b15e67d32",
   "metadata": {},
   "outputs": [
    {
     "name": "stdout",
     "output_type": "stream",
     "text": [
      "      partner_id_x  partner_id_y\n",
      "486            NaN           NaN\n",
      "517            NaN           NaN\n",
      "637            NaN           NaN\n",
      "664            NaN           NaN\n",
      "1510           NaN           NaN\n",
      "1724           NaN           NaN\n",
      "3380           NaN           NaN\n",
      "3722           NaN           NaN\n",
      "5732           NaN           NaN\n",
      "7817         145.0          59.0\n"
     ]
    }
   ],
   "source": [
    "# Show some examples where partner_id differs\n",
    "diff_partner_id = filtered_df[filtered_df['partner_id_x'] != filtered_df['partner_id_y']][['partner_id_x', 'partner_id_y']].head(10)\n",
    "print(diff_partner_id)\n"
   ]
  },
  {
   "cell_type": "code",
   "execution_count": 99,
   "id": "f425b867-2525-47bd-8e30-9cb117628f87",
   "metadata": {},
   "outputs": [
    {
     "name": "stdout",
     "output_type": "stream",
     "text": [
      "Number of observations after cleaning: 653850\n"
     ]
    }
   ],
   "source": [
    "# Step 1: Drop unnecessary columns\n",
    "columns_to_drop = ['partner_id_x', 'partner_id_y', 'tags_x', 'tags_y', 'posted_time_y']  # Keep posted_time_x\n",
    "filtered_df = filtered_df.drop(columns=columns_to_drop)\n",
    "\n",
    "# Step 2: Drop observations where categorical variables (country_code, currency, borrower_genders, repayment_interval) don't match\n",
    "filtered_df = filtered_df[\n",
    "    (filtered_df['country_code_x'] == filtered_df['country_code_y']) &\n",
    "    (filtered_df['currency_x'] == filtered_df['currency_y']) &\n",
    "    (filtered_df['borrower_genders_x'] == filtered_df['borrower_genders_y']) &\n",
    "    (filtered_df['repayment_interval_x'] == filtered_df['repayment_interval_y'])\n",
    "]\n",
    "\n",
    "# Step 3: Merge x and y columns, keeping only one version (since they should now be the same)\n",
    "columns_to_rename = {\n",
    "    'funded_amount_x': 'funded_amount',\n",
    "    'loan_amount_x': 'loan_amount',\n",
    "    'country_code_x': 'country_code',\n",
    "    'currency_x': 'currency',\n",
    "    'borrower_genders_x': 'borrower_genders',\n",
    "    'repayment_interval_x': 'repayment_interval',\n",
    "    'posted_time_x': 'posted_time',  # Keep only one version\n",
    "}\n",
    "\n",
    "# Rename columns and drop the duplicate y versions\n",
    "filtered_df = filtered_df.rename(columns=columns_to_rename)\n",
    "columns_to_drop_y = ['funded_amount_y', 'loan_amount_y', 'country_code_y', 'currency_y', 'borrower_genders_y', 'repayment_interval_y']\n",
    "filtered_df = filtered_df.drop(columns=columns_to_drop_y)\n",
    "\n",
    "# Display number of remaining observations after cleaning\n",
    "print(f\"Number of observations after cleaning: {filtered_df.shape[0]}\")\n"
   ]
  },
  {
   "cell_type": "code",
   "execution_count": 103,
   "id": "f7a0bc90-fc2d-40be-b1fb-3b6127964035",
   "metadata": {},
   "outputs": [
    {
     "data": {
      "text/plain": [
       "Index(['loan_id', 'loan_name', 'original_language', 'description',\n",
       "       'description_translated', 'funded_amount', 'loan_amount', 'status',\n",
       "       'activity_name', 'sector_name', 'loan_use', 'country_code',\n",
       "       'country_name', 'town_name', 'currency_policy',\n",
       "       'currency_exchange_coverage_rate', 'currency', 'posted_time',\n",
       "       'planned_expiration_time', 'disburse_time', 'raised_time',\n",
       "       'lender_term', 'num_lenders_total', 'num_journal_entries',\n",
       "       'num_bulk_entries', 'borrower_genders', 'borrower_pictured',\n",
       "       'repayment_interval', 'distribution_model', 'activity', 'sector', 'use',\n",
       "       'country', 'region', 'disbursed_time', 'funded_time', 'term_in_months',\n",
       "       'lender_count', 'date', 'funded_diff', 'loan_diff', 'country_code_diff',\n",
       "       'currency_diff', 'partner_id_diff', 'posted_time_diff', 'tags_diff',\n",
       "       'borrower_genders_diff', 'repayment_interval_diff'],\n",
       "      dtype='object')"
      ]
     },
     "execution_count": 103,
     "metadata": {},
     "output_type": "execute_result"
    }
   ],
   "source": [
    "filtered_df.columns"
   ]
  },
  {
   "cell_type": "code",
   "execution_count": 105,
   "id": "381ac88d-27bf-48a1-8a3a-bd0ad442a14d",
   "metadata": {},
   "outputs": [
    {
     "name": "stdout",
     "output_type": "stream",
     "text": [
      "Final dataset columns:\n",
      "Index(['loan_id', 'loan_name', 'original_language', 'description',\n",
      "       'description_translated', 'funded_amount', 'loan_amount', 'status',\n",
      "       'activity_name', 'sector_name', 'loan_use', 'country_code',\n",
      "       'country_name', 'town_name', 'currency_policy',\n",
      "       'currency_exchange_coverage_rate', 'currency', 'posted_time',\n",
      "       'planned_expiration_time', 'disburse_time', 'raised_time',\n",
      "       'lender_term', 'num_lenders_total', 'num_journal_entries',\n",
      "       'num_bulk_entries', 'borrower_genders', 'borrower_pictured',\n",
      "       'repayment_interval', 'distribution_model', 'activity', 'sector', 'use',\n",
      "       'country', 'region', 'disbursed_time', 'funded_time', 'term_in_months',\n",
      "       'lender_count', 'date'],\n",
      "      dtype='object')\n",
      "Number of observations after final cleaning: 653850\n"
     ]
    }
   ],
   "source": [
    "# List of intermediary columns to drop\n",
    "columns_to_drop_intermediary = [\n",
    "    'funded_diff', 'loan_diff', 'country_code_diff',\n",
    "    'currency_diff', 'partner_id_diff', 'posted_time_diff',\n",
    "    'tags_diff', 'borrower_genders_diff', 'repayment_interval_diff'\n",
    "]\n",
    "\n",
    "# Drop the intermediary columns\n",
    "filtered_df = filtered_df.drop(columns=columns_to_drop_intermediary)\n",
    "\n",
    "# Display the final list of columns\n",
    "print(\"Final dataset columns:\")\n",
    "print(filtered_df.columns)\n",
    "\n",
    "# Display the final number of observations\n",
    "print(f\"Number of observations after final cleaning: {filtered_df.shape[0]}\")\n"
   ]
  },
  {
   "cell_type": "code",
   "execution_count": null,
   "id": "7340cd20-eb94-4339-b47b-f1d953f0d276",
   "metadata": {},
   "outputs": [],
   "source": []
  }
 ],
 "metadata": {
  "kernelspec": {
   "display_name": "Python [conda env:base] *",
   "language": "python",
   "name": "conda-base-py"
  },
  "language_info": {
   "codemirror_mode": {
    "name": "ipython",
    "version": 3
   },
   "file_extension": ".py",
   "mimetype": "text/x-python",
   "name": "python",
   "nbconvert_exporter": "python",
   "pygments_lexer": "ipython3",
   "version": "3.12.7"
  }
 },
 "nbformat": 4,
 "nbformat_minor": 5
}
