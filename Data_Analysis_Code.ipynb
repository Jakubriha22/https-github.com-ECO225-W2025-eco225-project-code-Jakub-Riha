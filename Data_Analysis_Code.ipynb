{
 "cells": [
  {
   "cell_type": "code",
   "execution_count": null,
   "id": "edc8d8ad-7228-4b8d-8855-01ceda75048a",
   "metadata": {},
   "outputs": [],
   "source": [
    "# Import necessary libraries\n",
    "import pandas as pd\n",
    "import statsmodels.api as sm\n",
    "\n",
    "# Define file path (Make sure this matches where you saved the dataset)\n",
    "file_path = \"/Users/jakubriha/Desktop/ECO225/Project/Data/data_df.csv\"  \n",
    "\n",
    "# Load the dataset\n",
    "data_df = pd.read_csv(file_path)\n",
    "\n",
    "# Define dependent and independent variables\n",
    "y = data_df['log_funding_time']  # Assuming you are using the log-transformed funding time\n",
    "X = data_df[['gender_dummy']]  # Female dummy\n",
    "\n",
    "# Add intercept\n",
    "X = sm.add_constant(X)\n",
    "\n",
    "# Run the regression\n",
    "model = sm.OLS(y, X, missing='drop').fit()\n",
    "\n",
    "# Print the summary\n",
    "print(model.summary())\n"
   ]
  }
 ],
 "metadata": {
  "kernelspec": {
   "display_name": "Python [conda env:base] *",
   "language": "python",
   "name": "conda-base-py"
  },
  "language_info": {
   "codemirror_mode": {
    "name": "ipython",
    "version": 3
   },
   "file_extension": ".py",
   "mimetype": "text/x-python",
   "name": "python",
   "nbconvert_exporter": "python",
   "pygments_lexer": "ipython3",
   "version": "3.12.7"
  }
 },
 "nbformat": 4,
 "nbformat_minor": 5
}
