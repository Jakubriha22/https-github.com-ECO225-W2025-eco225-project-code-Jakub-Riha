{
 "cells": [
  {
   "cell_type": "code",
   "execution_count": null,
   "id": "6db22538-a9dd-4e25-a2eb-97b0f9fd908d",
   "metadata": {},
   "outputs": [],
   "source": [
    "import pandas as pd  # Data manipulation\n",
    "import numpy as np   # Numerical operations\n",
    "import os            # Interacting with files\n",
    "\n",
    "df1 = pd.read_csv(\"/Users/jakubriha/Desktop/ECO225/Project/Data/loans.csv\")\n",
    "df1.head(10)"
   ]
  },
  {
   "cell_type": "code",
   "execution_count": null,
   "id": "0b40c9aa-b76a-404f-a6eb-3ee96194353f",
   "metadata": {},
   "outputs": [],
   "source": []
  },
  {
   "cell_type": "code",
   "execution_count": null,
   "id": "f174c0e8-b916-440f-a027-d935de916555",
   "metadata": {},
   "outputs": [],
   "source": [
    "# Show first 10 rows where status is NOT \"funded\" to check what the variables are\n",
    "df1[df1['status'] != 'funded'].head(10)\n"
   ]
  },
  {
   "cell_type": "code",
   "execution_count": null,
   "id": "1f572d38-f5a8-481d-94db-1c1e77c30038",
   "metadata": {},
   "outputs": [],
   "source": [
    "df1_filtered = df1[['loan_amount', 'funded_amount', 'status', 'sector_name', 'repayment_interval']]\n",
    "\n",
    "# General summary statistics for numeric variables\n",
    "summary_stats = df1_filtered[['loan_amount', 'funded_amount']].describe()\n",
    "\n",
    "# Count of loan statuses\n",
    "status_counts = df1_filtered['status'].value_counts()"
   ]
  },
  {
   "cell_type": "code",
   "execution_count": null,
   "id": "fdfe58d1-1d1c-4511-9cee-b3713b684abf",
   "metadata": {},
   "outputs": [],
   "source": []
  },
  {
   "cell_type": "code",
   "execution_count": null,
   "id": "f561f2d7-d154-4031-bbaa-9d0e6b8a1553",
   "metadata": {},
   "outputs": [],
   "source": [
    "import pandas as pd\n",
    "\n",
    "# Load dataset\n",
    "df1 = pd.read_csv(\"/Users/jakubriha/Desktop/ECO225/Project/Data/loans.csv\")\n",
    "\n",
    "# Select relevant variables\n",
    "df1_filtered = df1[['loan_amount', 'funded_amount', 'status', 'sector_name', 'repayment_interval']]\n",
    "\n",
    "# General summary statistics for numeric variables\n",
    "summary_stats = df1_filtered[['loan_amount', 'funded_amount']].describe()\n",
    "print(\"Summary Statistics:\\n\", summary_stats)\n",
    "\n",
    "# Count of loan statuses\n",
    "status_counts = df1_filtered['status'].value_counts()\n",
    "print(\"\\nLoan Status Counts:\\n\", status_counts)\n",
    "\n",
    "# Mean and median loan amounts by status\n",
    "loan_stats_by_status = df1_filtered.groupby('status')[['loan_amount', 'funded_amount']].agg(['mean', 'median', 'count'])\n",
    "print(\"\\nLoan Stats by Status:\\n\", loan_stats_by_status)\n",
    "\n",
    "# Loan amount distribution by sector\n",
    "loan_by_sector = df1_filtered.groupby('sector_name')['loan_amount'].describe()\n",
    "print(\"\\nLoan Amount by Sector:\\n\", loan_by_sector)\n",
    "\n",
    "# Loan amount distribution by repayment interval\n",
    "loan_by_repayment = df1_filtered.groupby('repayment_interval')['loan_amount'].describe()\n",
    "print(\"\\nLoan Amount by Repayment Interval:\\n\", loan_by_repayment)\n",
    "\n"
   ]
  },
  {
   "cell_type": "code",
   "execution_count": null,
   "id": "274505d1-14e9-4511-8c46-e97de35b0001",
   "metadata": {},
   "outputs": [],
   "source": []
  },
  {
   "cell_type": "code",
   "execution_count": null,
   "id": "0d14aff3-0849-443c-94de-aa6dca02cbc5",
   "metadata": {},
   "outputs": [],
   "source": []
  },
  {
   "cell_type": "code",
   "execution_count": null,
   "id": "49d55010-9e65-4753-8644-02b3de236a42",
   "metadata": {},
   "outputs": [],
   "source": []
  },
  {
   "cell_type": "code",
   "execution_count": null,
   "id": "edd31eae-8c6b-4629-b724-6830558de7e1",
   "metadata": {},
   "outputs": [],
   "source": []
  }
 ],
 "metadata": {
  "kernelspec": {
   "display_name": "Python [conda env:base] *",
   "language": "python",
   "name": "conda-base-py"
  },
  "language_info": {
   "codemirror_mode": {
    "name": "ipython",
    "version": 3
   },
   "file_extension": ".py",
   "mimetype": "text/x-python",
   "name": "python",
   "nbconvert_exporter": "python",
   "pygments_lexer": "ipython3",
   "version": "3.12.7"
  }
 },
 "nbformat": 4,
 "nbformat_minor": 5
}
